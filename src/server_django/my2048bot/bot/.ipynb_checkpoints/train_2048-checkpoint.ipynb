{
 "cells": [
  {
   "cell_type": "code",
   "execution_count": 8,
   "metadata": {},
   "outputs": [],
   "source": [
    "import numpy as np\n",
    "from my2048kernel import My2048"
   ]
  },
  {
   "cell_type": "code",
   "execution_count": 2,
   "metadata": {},
   "outputs": [
    {
     "name": "stdout",
     "output_type": "stream",
     "text": [
      "[[0 0 2 0]\n",
      " [0 0 0 0]\n",
      " [0 0 2 0]\n",
      " [0 0 0 0]]\n"
     ]
    }
   ],
   "source": [
    "my2048 = My2048([4,4])\n",
    "print(str(my2048))"
   ]
  },
  {
   "cell_type": "code",
   "execution_count": 3,
   "metadata": {},
   "outputs": [
    {
     "name": "stdout",
     "output_type": "stream",
     "text": [
      "[[0 0 4 2]\n",
      " [0 0 0 0]\n",
      " [0 0 0 0]\n",
      " [0 0 0 0]]\n"
     ]
    }
   ],
   "source": [
    "my2048.move(\"up\")\n",
    "print(str(my2048))"
   ]
  },
  {
   "cell_type": "code",
   "execution_count": 4,
   "metadata": {},
   "outputs": [
    {
     "name": "stdout",
     "output_type": "stream",
     "text": [
      "[[4 2 0 0]\n",
      " [0 0 0 0]\n",
      " [0 0 0 0]\n",
      " [0 0 2 0]]\n"
     ]
    }
   ],
   "source": [
    "my2048.move(\"left\")\n",
    "print(str(my2048))"
   ]
  },
  {
   "cell_type": "code",
   "execution_count": 5,
   "metadata": {},
   "outputs": [
    {
     "name": "stdout",
     "output_type": "stream",
     "text": [
      "[[0 4 4 2]\n",
      " [0 0 0 0]\n",
      " [0 0 0 0]\n",
      " [0 0 0 2]]\n"
     ]
    }
   ],
   "source": [
    "my2048.move(\"right\")\n",
    "print(str(my2048))"
   ]
  },
  {
   "cell_type": "code",
   "execution_count": 6,
   "metadata": {},
   "outputs": [
    {
     "name": "stdout",
     "output_type": "stream",
     "text": [
      "[[0 0 2 0]\n",
      " [0 0 0 0]\n",
      " [0 0 0 0]\n",
      " [0 4 4 4]]\n"
     ]
    }
   ],
   "source": [
    "my2048.move(\"down\")\n",
    "print(str(my2048))"
   ]
  },
  {
   "cell_type": "code",
   "execution_count": null,
   "metadata": {},
   "outputs": [],
   "source": []
  }
 ],
 "metadata": {
  "kernelspec": {
   "display_name": "Python 3",
   "language": "python",
   "name": "python3"
  },
  "language_info": {
   "codemirror_mode": {
    "name": "ipython",
    "version": 3
   },
   "file_extension": ".py",
   "mimetype": "text/x-python",
   "name": "python",
   "nbconvert_exporter": "python",
   "pygments_lexer": "ipython3",
   "version": "3.7.1"
  }
 },
 "nbformat": 4,
 "nbformat_minor": 2
}
